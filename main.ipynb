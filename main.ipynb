{
 "cells": [
  {
   "cell_type": "markdown",
   "id": "6730fd1f",
   "metadata": {},
   "source": [
    "## Pandas Playground"
   ]
  },
  {
   "cell_type": "code",
   "execution_count": null,
   "id": "c8a4dcc5",
   "metadata": {},
   "outputs": [],
   "source": [
    "import pandas as pd"
   ]
  }
 ],
 "metadata": {
  "language_info": {
   "name": "python"
  }
 },
 "nbformat": 4,
 "nbformat_minor": 5
}
